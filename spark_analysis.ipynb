{
 "cells": [
  {
   "cell_type": "markdown",
   "id": "289885c9",
   "metadata": {},
   "source": [
    "---\n",
    "title: \"Spark SQL Job Data Analysis\"\n",
    "author: \"Soham S Deshkhaire\"\n",
    "format: html\n",
    "embed-resources: true\n",
    "date: \"2020-02-25\"\n",
    "date-format: long\n",
    "execute:\n",
    "  echo: true\n",
    "---"
   ]
  },
  {
   "cell_type": "code",
   "execution_count": null,
   "id": "07af2e76",
   "metadata": {},
   "outputs": [
    {
     "name": "stderr",
     "output_type": "stream",
     "text": [
      "WARNING: Using incubator modules: jdk.incubator.vector\n",
      "Using Spark's default log4j profile: org/apache/spark/log4j2-defaults.properties\n",
      "Setting default log level to \"WARN\".\n",
      "To adjust logging level use sc.setLogLevel(newLevel). For SparkR, use setLogLevel(newLevel).\n",
      "25/10/26 03:27:15 WARN NativeCodeLoader: Unable to load native-hadoop library for your platform... using builtin-java classes where applicable\n",
      "25/10/26 03:27:30 WARN SparkStringUtils: Truncated the string representation of a plan since it was too large. This behavior can be adjusted by setting 'spark.sql.debug.maxToStringFields'.\n"
     ]
    }
   ],
   "source": [
    "from pyspark.sql import SparkSession\n",
    "\n",
    "spark = SparkSession.builder.appName(\"JobPostingsAnalysis\").getOrCreate()\n",
    "\n",
    "df = spark.read.option(\"header\", \"true\").option(\"inferSchema\", \"true\").option(\"multiLine\", \"true\").option(\"escape\", \"\\\"\").csv(\"data/lightcast_job_postings.csv\")\n",
    "df.createOrReplaceTempView(\"jobs\")"
   ]
  },
  {
   "cell_type": "code",
   "execution_count": 2,
   "id": "3ce1fd73",
   "metadata": {},
   "outputs": [
    {
     "name": "stderr",
     "output_type": "stream",
     "text": [
      "                                                                                \r"
     ]
    },
    {
     "name": "stdout",
     "output_type": "stream",
     "text": [
      "+--------------------+-----------------+----------------------+----------+--------+---------+--------+--------------------+--------------------+--------------------+-----------+-------------------+--------------------+--------------------+---------------+----------------+---------+--------------------+--------------------+-------------------+----------------+---------------------+-------------+-------------------+-------------+------------------+---------------+--------------------+--------------------+--------------------+-------------+------+-----------+----------------+-------------------+---------+-----------+--------------------+--------------------+------------------+------+--------------------+-----+--------------------+-----+----------+---------------+--------------------+---------------+--------------------+------------+--------------------+------------+--------------------+------+--------------------+------+--------------------+------+--------------------+------+--------------------+------+--------------------+------------------+-------------------+--------------------+--------------------+--------------------+--------------------+-----------------------+--------------------+--------------------+--------------------+--------------------+--------------------+--------------------+----------+--------------------+----------+--------------------+--------------------+--------------------+--------------------+--------------------+--------------------+--------------------+----------+--------------------+----------+--------------------+----------+---------------+----------+---------------+---------------+--------------------+--------------+--------------------+--------------------------+-------------------------------+--------------------+-------------------------+-----------------------------+----------------------------------+-----------------+----------------------+-----------------------+----------------------------+------------------+-----------------------+-------+--------------------+-------+--------------------+-------+---------------+-------+---------------+-----------------+----------------------+------------+--------------------+------------+--------------------+------------+--------------------+------------+--------------------+------------+--------------------+\n",
      "|                  ID|LAST_UPDATED_DATE|LAST_UPDATED_TIMESTAMP|DUPLICATES|  POSTED|  EXPIRED|DURATION|        SOURCE_TYPES|             SOURCES|                 URL|ACTIVE_URLS|ACTIVE_SOURCES_INFO|           TITLE_RAW|                BODY|MODELED_EXPIRED|MODELED_DURATION|  COMPANY|        COMPANY_NAME|         COMPANY_RAW|COMPANY_IS_STAFFING|EDUCATION_LEVELS|EDUCATION_LEVELS_NAME|MIN_EDULEVELS| MIN_EDULEVELS_NAME|MAX_EDULEVELS|MAX_EDULEVELS_NAME|EMPLOYMENT_TYPE|EMPLOYMENT_TYPE_NAME|MIN_YEARS_EXPERIENCE|MAX_YEARS_EXPERIENCE|IS_INTERNSHIP|SALARY|REMOTE_TYPE|REMOTE_TYPE_NAME|ORIGINAL_PAY_PERIOD|SALARY_TO|SALARY_FROM|            LOCATION|                CITY|         CITY_NAME|COUNTY|         COUNTY_NAME|  MSA|            MSA_NAME|STATE|STATE_NAME|COUNTY_OUTGOING|COUNTY_NAME_OUTGOING|COUNTY_INCOMING|COUNTY_NAME_INCOMING|MSA_OUTGOING|   MSA_NAME_OUTGOING|MSA_INCOMING|   MSA_NAME_INCOMING|NAICS2|         NAICS2_NAME|NAICS3|         NAICS3_NAME|NAICS4|         NAICS4_NAME|NAICS5|         NAICS5_NAME|NAICS6|         NAICS6_NAME|             TITLE|         TITLE_NAME|         TITLE_CLEAN|              SKILLS|         SKILLS_NAME|  SPECIALIZED_SKILLS|SPECIALIZED_SKILLS_NAME|      CERTIFICATIONS| CERTIFICATIONS_NAME|       COMMON_SKILLS|  COMMON_SKILLS_NAME|     SOFTWARE_SKILLS|SOFTWARE_SKILLS_NAME|      ONET|           ONET_NAME| ONET_2019|      ONET_2019_NAME|                CIP6|           CIP6_NAME|                CIP4|           CIP4_NAME|                CIP2|           CIP2_NAME|SOC_2021_2|     SOC_2021_2_NAME|SOC_2021_3|     SOC_2021_3_NAME|SOC_2021_4|SOC_2021_4_NAME|SOC_2021_5|SOC_2021_5_NAME|LOT_CAREER_AREA|LOT_CAREER_AREA_NAME|LOT_OCCUPATION| LOT_OCCUPATION_NAME|LOT_SPECIALIZED_OCCUPATION|LOT_SPECIALIZED_OCCUPATION_NAME|LOT_OCCUPATION_GROUP|LOT_OCCUPATION_GROUP_NAME|LOT_V6_SPECIALIZED_OCCUPATION|LOT_V6_SPECIALIZED_OCCUPATION_NAME|LOT_V6_OCCUPATION|LOT_V6_OCCUPATION_NAME|LOT_V6_OCCUPATION_GROUP|LOT_V6_OCCUPATION_GROUP_NAME|LOT_V6_CAREER_AREA|LOT_V6_CAREER_AREA_NAME|  SOC_2|          SOC_2_NAME|  SOC_3|          SOC_3_NAME|  SOC_4|     SOC_4_NAME|  SOC_5|     SOC_5_NAME|LIGHTCAST_SECTORS|LIGHTCAST_SECTORS_NAME|NAICS_2022_2|   NAICS_2022_2_NAME|NAICS_2022_3|   NAICS_2022_3_NAME|NAICS_2022_4|   NAICS_2022_4_NAME|NAICS_2022_5|   NAICS_2022_5_NAME|NAICS_2022_6|   NAICS_2022_6_NAME|\n",
      "+--------------------+-----------------+----------------------+----------+--------+---------+--------+--------------------+--------------------+--------------------+-----------+-------------------+--------------------+--------------------+---------------+----------------+---------+--------------------+--------------------+-------------------+----------------+---------------------+-------------+-------------------+-------------+------------------+---------------+--------------------+--------------------+--------------------+-------------+------+-----------+----------------+-------------------+---------+-----------+--------------------+--------------------+------------------+------+--------------------+-----+--------------------+-----+----------+---------------+--------------------+---------------+--------------------+------------+--------------------+------------+--------------------+------+--------------------+------+--------------------+------+--------------------+------+--------------------+------+--------------------+------------------+-------------------+--------------------+--------------------+--------------------+--------------------+-----------------------+--------------------+--------------------+--------------------+--------------------+--------------------+--------------------+----------+--------------------+----------+--------------------+--------------------+--------------------+--------------------+--------------------+--------------------+--------------------+----------+--------------------+----------+--------------------+----------+---------------+----------+---------------+---------------+--------------------+--------------+--------------------+--------------------------+-------------------------------+--------------------+-------------------------+-----------------------------+----------------------------------+-----------------+----------------------+-----------------------+----------------------------+------------------+-----------------------+-------+--------------------+-------+--------------------+-------+---------------+-------+---------------+-----------------+----------------------+------------+--------------------+------------+--------------------+------------+--------------------+------------+--------------------+------------+--------------------+\n",
      "|1f57d95acf4dc67ed...|         9/6/2024|  2024-09-06 20:32:...|         0|6/2/2024| 6/8/2024|       6|   [\\n  \"Company\"\\n]|[\\n  \"brassring.c...|[\\n  \"https://sjo...|         []|               NULL|Enterprise Analys...|31-May-2024\\n\\nEn...|       6/8/2024|               6|   894731|          Murphy USA|          Murphy USA|              false|       [\\n  2\\n]| [\\n  \"Bachelor's ...|            2|  Bachelor's degree|         NULL|              NULL|              1|Full-time (> 32 h...|                   2|                   2|        false|  NULL|          0|          [None]|               NULL|     NULL|       NULL|{\\n  \"lat\": 33.20...|RWwgRG9yYWRvLCBBUg==|     El Dorado, AR|  5139|           Union, AR|20980|       El Dorado, AR|    5|  Arkansas|           5139|           Union, AR|           5139|           Union, AR|       20980|       El Dorado, AR|       20980|       El Dorado, AR|    44|        Retail Trade|   441|Motor Vehicle and...|  4413|Automotive Parts,...| 44133|Automotive Parts ...|441330|Automotive Parts ...|ET29C073C03D1F86B4|Enterprise Analysts|enterprise analys...|[\\n  \"KS126DB6T06...|[\\n  \"Merchandisi...|[\\n  \"KS126DB6T06...|   [\\n  \"Merchandisi...|                  []|                  []|[\\n  \"KS126706DPF...|[\\n  \"Mathematics...|[\\n  \"KS440W865GC...|[\\n  \"SQL (Progra...|15-2051.01|Business Intellig...|15-2051.01|Business Intellig...|[\\n  \"45.0601\",\\n...|[\\n  \"Economics, ...|[\\n  \"45.06\",\\n  ...|[\\n  \"Economics\",...|[\\n  \"45\",\\n  \"27...|[\\n  \"Social Scie...|   15-0000|Computer and Math...|   15-2000|Mathematical Scie...|   15-2050|Data Scientists|   15-2051|Data Scientists|             23|Information Techn...|        231010|Business Intellig...|                  23101011|           General ERP Analy...|                2310|     Business Intellig...|                     23101011|              General ERP Analy...|           231010|  Business Intellig...|                   2310|        Business Intellig...|                23|   Information Techn...|15-0000|Computer and Math...|15-2000|Mathematical Scie...|15-2050|Data Scientists|15-2051|Data Scientists|        [\\n  7\\n]|  [\\n  \"Artificial ...|          44|        Retail Trade|         441|Motor Vehicle and...|        4413|Automotive Parts,...|       44133|Automotive Parts ...|      441330|Automotive Parts ...|\n",
      "|0cb072af26757b6c4...|         8/2/2024|  2024-08-02 17:08:...|         0|6/2/2024| 8/1/2024|    NULL| [\\n  \"Job Board\"\\n]| [\\n  \"maine.gov\"\\n]|[\\n  \"https://job...|         []|               NULL|Oracle Consultant...|Oracle Consultant...|       8/1/2024|            NULL|   133098|Smx Corporation L...|                 SMX|               true|      [\\n  99\\n]| [\\n  \"No Educatio...|           99|No Education Listed|         NULL|              NULL|              1|Full-time (> 32 h...|                   3|                   3|        false|  NULL|          1|          Remote|               NULL|     NULL|       NULL|{\\n  \"lat\": 44.31...|    QXVndXN0YSwgTUU=|       Augusta, ME| 23011|        Kennebec, ME|12300|Augusta-Watervill...|   23|     Maine|          23011|        Kennebec, ME|          23011|        Kennebec, ME|       12300|Augusta-Watervill...|       12300|Augusta-Watervill...|    56|Administrative an...|   561|Administrative an...|  5613| Employment Services| 56132|Temporary Help Se...|561320|Temporary Help Se...|ET21DDA63780A7DC09| Oracle Consultants|oracle consultant...|[\\n  \"KS122626T55...|[\\n  \"Procurement...|[\\n  \"KS122626T55...|   [\\n  \"Procurement...|                  []|                  []|                  []|                  []|[\\n  \"BGSBF3F508F...|[\\n  \"Oracle Busi...|15-2051.01|Business Intellig...|15-2051.01|Business Intellig...|                  []|                  []|                  []|                  []|                  []|                  []|   15-0000|Computer and Math...|   15-2000|Mathematical Scie...|   15-2050|Data Scientists|   15-2051|Data Scientists|             23|Information Techn...|        231010|Business Intellig...|                  23101012|           Oracle Consultant...|                2310|     Business Intellig...|                     23101012|              Oracle Consultant...|           231010|  Business Intellig...|                   2310|        Business Intellig...|                23|   Information Techn...|15-0000|Computer and Math...|15-2000|Mathematical Scie...|15-2050|Data Scientists|15-2051|Data Scientists|             NULL|                  NULL|          56|Administrative an...|         561|Administrative an...|        5613| Employment Services|       56132|Temporary Help Se...|      561320|Temporary Help Se...|\n",
      "|85318b12b3331fa49...|         9/6/2024|  2024-09-06 20:32:...|         1|6/2/2024| 7/7/2024|      35| [\\n  \"Job Board\"\\n]|[\\n  \"dejobs.org\"\\n]|[\\n  \"https://dej...|         []|               NULL|        Data Analyst|Taking care of pe...|      6/10/2024|               8| 39063746|            Sedgwick|            Sedgwick|              false|       [\\n  2\\n]| [\\n  \"Bachelor's ...|            2|  Bachelor's degree|         NULL|              NULL|              1|Full-time (> 32 h...|                   5|                NULL|        false|  NULL|          0|          [None]|               NULL|     NULL|       NULL|{\\n  \"lat\": 32.77...|    RGFsbGFzLCBUWA==|        Dallas, TX| 48113|          Dallas, TX|19100|Dallas-Fort Worth...|   48|     Texas|          48113|          Dallas, TX|          48113|          Dallas, TX|       19100|Dallas-Fort Worth...|       19100|Dallas-Fort Worth...|    52|Finance and Insur...|   524|Insurance Carrier...|  5242|Agencies, Brokera...| 52429|Other Insurance R...|524291|    Claims Adjusting|ET3037E0C947A02404|      Data Analysts|        data analyst|[\\n  \"KS1218W78FG...|[\\n  \"Management\"...|[\\n  \"ESF3939CE1F...|   [\\n  \"Exception R...|[\\n  \"KS683TN76T7...|[\\n  \"Security Cl...|[\\n  \"KS1218W78FG...|[\\n  \"Management\"...|[\\n  \"KS126HY6YLT...|[\\n  \"Microsoft O...|15-2051.01|Business Intellig...|15-2051.01|Business Intellig...|                  []|                  []|                  []|                  []|                  []|                  []|   15-0000|Computer and Math...|   15-2000|Mathematical Scie...|   15-2050|Data Scientists|   15-2051|Data Scientists|             23|Information Techn...|        231113|Data / Data Minin...|                  23111310|                   Data Analyst|                2311|     Data Analysis and...|                     23111310|                      Data Analyst|           231113|  Data / Data Minin...|                   2311|        Data Analysis and...|                23|   Information Techn...|15-0000|Computer and Math...|15-2000|Mathematical Scie...|15-2050|Data Scientists|15-2051|Data Scientists|             NULL|                  NULL|          52|Finance and Insur...|         524|Insurance Carrier...|        5242|Agencies, Brokera...|       52429|Other Insurance R...|      524291|    Claims Adjusting|\n",
      "|1b5c3941e54a1889e...|         9/6/2024|  2024-09-06 20:32:...|         1|6/2/2024|7/20/2024|      48| [\\n  \"Job Board\"\\n]|[\\n  \"disabledper...|[\\n  \"https://www...|         []|               NULL|Sr. Lead Data Mgm...|About this role:\\...|      6/12/2024|              10| 37615159|         Wells Fargo|         Wells Fargo|              false|      [\\n  99\\n]| [\\n  \"No Educatio...|           99|No Education Listed|         NULL|              NULL|              1|Full-time (> 32 h...|                   3|                NULL|        false|  NULL|          0|          [None]|               NULL|     NULL|       NULL|{\\n  \"lat\": 33.44...|    UGhvZW5peCwgQVo=|       Phoenix, AZ|  4013|        Maricopa, AZ|38060|Phoenix-Mesa-Chan...|    4|   Arizona|           4013|        Maricopa, AZ|           4013|        Maricopa, AZ|       38060|Phoenix-Mesa-Chan...|       38060|Phoenix-Mesa-Chan...|    52|Finance and Insur...|   522|Credit Intermedia...|  5221|Depository Credit...| 52211|  Commercial Banking|522110|  Commercial Banking|ET2114E0404BA30075|Management Analysts|sr lead data mgmt...|[\\n  \"KS123QX62QY...|[\\n  \"Exit Strate...|[\\n  \"KS123QX62QY...|   [\\n  \"Exit Strate...|                  []|                  []|[\\n  \"KS7G6NP6R6L...|[\\n  \"Reliability...|[\\n  \"KS4409D76NW...|[\\n  \"SAS (Softwa...|15-2051.01|Business Intellig...|15-2051.01|Business Intellig...|                  []|                  []|                  []|                  []|                  []|                  []|   15-0000|Computer and Math...|   15-2000|Mathematical Scie...|   15-2050|Data Scientists|   15-2051|Data Scientists|             23|Information Techn...|        231113|Data / Data Minin...|                  23111310|                   Data Analyst|                2311|     Data Analysis and...|                     23111310|                      Data Analyst|           231113|  Data / Data Minin...|                   2311|        Data Analysis and...|                23|   Information Techn...|15-0000|Computer and Math...|15-2000|Mathematical Scie...|15-2050|Data Scientists|15-2051|Data Scientists|        [\\n  6\\n]|  [\\n  \"Data Privac...|          52|Finance and Insur...|         522|Credit Intermedia...|        5221|Depository Credit...|       52211|  Commercial Banking|      522110|  Commercial Banking|\n",
      "|cb5ca25f02bdf25c1...|        6/19/2024|   2024-06-19 07:00:00|         0|6/2/2024|6/17/2024|      15|[\\n  \"FreeJobBoar...|[\\n  \"craigslist....|[\\n  \"https://mod...|         []|               NULL|Comisiones de $10...|Comisiones de $10...|      6/17/2024|              15|        0|        Unclassified|               LH/GM|              false|      [\\n  99\\n]| [\\n  \"No Educatio...|           99|No Education Listed|         NULL|              NULL|              3|Part-time / full-...|                NULL|                NULL|        false| 92500|          0|          [None]|               year|   150000|      35000|{\\n  \"lat\": 37.63...|    TW9kZXN0bywgQ0E=|       Modesto, CA|  6099|      Stanislaus, CA|33700|         Modesto, CA|    6|California|           6099|      Stanislaus, CA|           6099|      Stanislaus, CA|       33700|         Modesto, CA|       33700|         Modesto, CA|    99|Unclassified Indu...|   999|Unclassified Indu...|  9999|Unclassified Indu...| 99999|Unclassified Indu...|999999|Unclassified Indu...|ET0000000000000000|       Unclassified|comisiones de por...|                  []|                  []|                  []|                     []|                  []|                  []|                  []|                  []|                  []|                  []|15-2051.01|Business Intellig...|15-2051.01|Business Intellig...|                  []|                  []|                  []|                  []|                  []|                  []|   15-0000|Computer and Math...|   15-2000|Mathematical Scie...|   15-2050|Data Scientists|   15-2051|Data Scientists|             23|Information Techn...|        231010|Business Intellig...|                  23101012|           Oracle Consultant...|                2310|     Business Intellig...|                     23101012|              Oracle Consultant...|           231010|  Business Intellig...|                   2310|        Business Intellig...|                23|   Information Techn...|15-0000|Computer and Math...|15-2000|Mathematical Scie...|15-2050|Data Scientists|15-2051|Data Scientists|             NULL|                  NULL|          99|Unclassified Indu...|         999|Unclassified Indu...|        9999|Unclassified Indu...|       99999|Unclassified Indu...|      999999|Unclassified Indu...|\n",
      "|35a6cd2183d9fb270...|         9/6/2024|  2024-09-06 20:32:...|         0|6/2/2024|6/12/2024|      10| [\\n  \"Job Board\"\\n]|[\\n  \"dejobs.org\"\\n]|[\\n  \"https://dej...|         []|               NULL|SR Lead Data Analyst|About Lumen\\n\\nLu...|      6/12/2024|              10|  2233642|  Lumen Technologies|               Lumen|              false|       [\\n  2\\n]| [\\n  \"Bachelor's ...|            2|  Bachelor's degree|         NULL|              NULL|              1|Full-time (> 32 h...|                NULL|                NULL|        false|110155|          1|          Remote|               year|   125890|      94420|{\\n  \"lat\": 0,\\n ...|W1Vua25vd24gQ2l0e...|[Unknown City], AR|  5999|[Unknown county], AR| NULL|                NULL|    5|  Arkansas|           5999|[Unknown county], AR|           5999|[Unknown county], AR|        NULL|                NULL|        NULL|                NULL|    51|         Information|   517|  Telecommunications|  5178|All Other Telecom...| 51781|All Other Telecom...|517810|All Other Telecom...|ET95DB859B53CCACA7| Lead Data Analysts|sr lead data analyst|[\\n  \"KS13USA80NE...|[\\n  \"Power BI\",\\...|[\\n  \"KS13USA80NE...|   [\\n  \"Power BI\",\\...|                  []|                  []|[\\n  \"KS1280B68GD...|[\\n  \"Presentatio...|[\\n  \"KS13USA80NE...|[\\n  \"Power BI\",\\...|15-2051.01|Business Intellig...|15-2051.01|Business Intellig...|   [\\n  \"52.0201\"\\n]|[\\n  \"Business Ad...|     [\\n  \"52.02\"\\n]|[\\n  \"Business Ad...|        [\\n  \"52\"\\n]|[\\n  \"Business, M...|   15-0000|Computer and Math...|   15-2000|Mathematical Scie...|   15-2050|Data Scientists|   15-2051|Data Scientists|             23|Information Techn...|        231113|Data / Data Minin...|                  23111310|                   Data Analyst|                2311|     Data Analysis and...|                     23111310|                      Data Analyst|           231113|  Data / Data Minin...|                   2311|        Data Analysis and...|                23|   Information Techn...|15-0000|Computer and Math...|15-2000|Mathematical Scie...|15-2050|Data Scientists|15-2051|Data Scientists|             NULL|                  NULL|          51|         Information|         517|  Telecommunications|        5178|All Other Telecom...|       51781|All Other Telecom...|      517810|All Other Telecom...|\n",
      "|06de8d192f30b1d8d...|         8/2/2024|  2024-08-02 17:08:...|         0|6/2/2024| 8/1/2024|    NULL|   [\\n  \"Company\"\\n]|[\\n  \"oraclecloud...|[\\n  \"https://hct...|         []|               NULL| Talent Data Analyst|Id : 2501314,\\nTi...|      6/22/2024|              20| 44896740|Semiconductor Com...|Semiconductor Com...|              false|       [\\n  2\\n]| [\\n  \"Bachelor's ...|            2|  Bachelor's degree|         NULL|              NULL|              1|Full-time (> 32 h...|                NULL|                NULL|        false|  NULL|          0|          [None]|               NULL|     NULL|       NULL|{\\n  \"lat\": 33.49...|U2NvdHRzZGFsZSwgQVo=|    Scottsdale, AZ|  4013|        Maricopa, AZ|38060|Phoenix-Mesa-Chan...|    4|   Arizona|           4013|        Maricopa, AZ|           4013|        Maricopa, AZ|       38060|Phoenix-Mesa-Chan...|       38060|Phoenix-Mesa-Chan...|    31|       Manufacturing|   334|Computer and Elec...|  3344|Semiconductor and...| 33441|Semiconductor and...|334413|Semiconductor and...|ETA9B609BE4E431E44|   IT Data Analysts| talent data analyst|[\\n  \"KS1250B78VW...|[\\n  \"Interactive...|[\\n  \"KS1250B78VW...|   [\\n  \"Interactive...|                  []|                  []|[\\n  \"ESFA9982A2A...|[\\n  \"Analytical ...|[\\n  \"KS1250B78VW...|[\\n  \"Interactive...|15-2051.01|Business Intellig...|15-2051.01|Business Intellig...|                  []|                  []|                  []|                  []|                  []|                  []|   15-0000|Computer and Math...|   15-2000|Mathematical Scie...|   15-2050|Data Scientists|   15-2051|Data Scientists|             23|Information Techn...|        231113|Data / Data Minin...|                  23111310|                   Data Analyst|                2311|     Data Analysis and...|                     23111310|                      Data Analyst|           231113|  Data / Data Minin...|                   2311|        Data Analysis and...|                23|   Information Techn...|15-0000|Computer and Math...|15-2000|Mathematical Scie...|15-2050|Data Scientists|15-2051|Data Scientists|             NULL|                  NULL|          31|       Manufacturing|         334|Computer and Elec...|        3344|Semiconductor and...|       33441|Semiconductor and...|      334413|Semiconductor and...|\n",
      "|3d589c9d84677ca94...|         9/6/2024|  2024-09-06 20:32:...|         1|6/2/2024| 7/7/2024|      35| [\\n  \"Job Board\"\\n]|[\\n  \"dejobs.org\"\\n]|[\\n  \"https://dej...|         []|               NULL|        Data Analyst|Taking care of pe...|      6/10/2024|               8| 39063746|            Sedgwick|            Sedgwick|              false|       [\\n  2\\n]| [\\n  \"Bachelor's ...|            2|  Bachelor's degree|         NULL|              NULL|              1|Full-time (> 32 h...|                   5|                NULL|        false|  NULL|          0|          [None]|               NULL|     NULL|       NULL|{\\n  \"lat\": 39.75...|    RGF5dG9uLCBPSA==|        Dayton, OH| 39113|      Montgomery, OH|19430|Dayton-Kettering, OH|   39|      Ohio|          39113|      Montgomery, OH|          39113|      Montgomery, OH|       19430|Dayton-Kettering, OH|       19430|Dayton-Kettering-...|    52|Finance and Insur...|   524|Insurance Carrier...|  5242|Agencies, Brokera...| 52429|Other Insurance R...|524291|    Claims Adjusting|ET3037E0C947A02404|      Data Analysts|        data analyst|[\\n  \"KS1218W78FG...|[\\n  \"Management\"...|[\\n  \"ESF3939CE1F...|   [\\n  \"Exception R...|[\\n  \"KS683TN76T7...|[\\n  \"Security Cl...|[\\n  \"KS1218W78FG...|[\\n  \"Management\"...|[\\n  \"KS126HY6YLT...|[\\n  \"Microsoft O...|15-2051.01|Business Intellig...|15-2051.01|Business Intellig...|                  []|                  []|                  []|                  []|                  []|                  []|   15-0000|Computer and Math...|   15-2000|Mathematical Scie...|   15-2050|Data Scientists|   15-2051|Data Scientists|             23|Information Techn...|        231113|Data / Data Minin...|                  23111310|                   Data Analyst|                2311|     Data Analysis and...|                     23111310|                      Data Analyst|           231113|  Data / Data Minin...|                   2311|        Data Analysis and...|                23|   Information Techn...|15-0000|Computer and Math...|15-2000|Mathematical Scie...|15-2050|Data Scientists|15-2051|Data Scientists|             NULL|                  NULL|          52|Finance and Insur...|         524|Insurance Carrier...|        5242|Agencies, Brokera...|       52429|Other Insurance R...|      524291|    Claims Adjusting|\n",
      "|5a843df632e1ff756...|        6/21/2024|   2024-06-21 07:00:00|         0|6/2/2024|6/20/2024|      18| [\\n  \"Job Board\"\\n]|[\\n  \"computerwor...|[\\n  \"http://comp...|         []|               NULL|SAP SD/OTC Consul...|SAP SD/OTC Consul...|      6/20/2024|              18|100173263|Global Enterprise...|Global Enterprise...|               true|      [\\n  99\\n]| [\\n  \"No Educatio...|           99|No Education Listed|         NULL|              NULL|              1|Full-time (> 32 h...|                   7|                   7|        false|  NULL|          0|          [None]|               NULL|     NULL|       NULL|{\\n  \"lat\": 41.12...|    RnJhbmtsaW4sIE5K|      Franklin, NJ| 34037|          Sussex, NJ|35620|New York-Newark-J...|   34|New Jersey|          34037|          Sussex, NJ|          34037|          Sussex, NJ|       35620|New York-Newark-J...|       35620|New York-Newark-J...|    99|Unclassified Indu...|   999|Unclassified Indu...|  9999|Unclassified Indu...| 99999|Unclassified Indu...|999999|Unclassified Indu...|ET6244BCEEC5921581|SAP OTC Consultants|sap sd otc consul...|[\\n  \"KS1200771D9...|[\\n  \"JavaScript ...|[\\n  \"KS1200771D9...|   [\\n  \"JavaScript ...|                  []|                  []|                  []|                  []|[\\n  \"KS1200771D9...|[\\n  \"JavaScript ...|15-2051.01|Business Intellig...|15-2051.01|Business Intellig...|                  []|                  []|                  []|                  []|                  []|                  []|   15-0000|Computer and Math...|   15-2000|Mathematical Scie...|   15-2050|Data Scientists|   15-2051|Data Scientists|             23|Information Techn...|        231010|Business Intellig...|                  23101011|           General ERP Analy...|                2310|     Business Intellig...|                     23101011|              General ERP Analy...|           231010|  Business Intellig...|                   2310|        Business Intellig...|                23|   Information Techn...|15-0000|Computer and Math...|15-2000|Mathematical Scie...|15-2050|Data Scientists|15-2051|Data Scientists|             NULL|                  NULL|          99|Unclassified Indu...|         999|Unclassified Indu...|        9999|Unclassified Indu...|       99999|Unclassified Indu...|      999999|Unclassified Indu...|\n",
      "|229620073766234e8...|        10/9/2024|  2024-10-09 18:07:...|         0|6/2/2024| 8/1/2024|    NULL|   [\\n  \"Company\"\\n]|   [\\n  \"3ds.com\"\\n]|[\\n  \"https://www...|         []|               NULL|Sr. Marketing Ana...|Sr. Marketing Ana...|       8/1/2024|            NULL| 39016169|  Dassault SystÃ¨mes|    Dassault Systmes|              false| [\\n  2,\\n  3\\n]| [\\n  \"Bachelor's ...|            2|  Bachelor's degree|            3|   Master's degree|              1|Full-time (> 32 h...|                   2|                   2|        false| 92962|          0|          [None]|               year|   106424|      79500|{\\n  \"lat\": 40.75...|    TmV3IFlvcmssIE5Z|      New York, NY| 36061|        New York, NY|35620|New York-Newark-J...|   36|  New York|          36061|        New York, NY|          36061|        New York, NY|       35620|New York-Newark-J...|       35620|New York-Newark-J...|    54|Professional, Sci...|   541|Professional, Sci...|  5415|Computer Systems ...| 54151|Computer Systems ...|541511|Custom Computer P...|ET1CE3CFA5447376E9| Marketing Analysts|sr marketing analyst|[\\n  \"KS4407N6CMT...|[\\n  \"Salesforce\"...|[\\n  \"KS4407N6CMT...|   [\\n  \"Salesforce\"...|                  []|                  []|[\\n  \"KS7G747655V...|[\\n  \"Prioritizat...|[\\n  \"KS4407N6CMT...|[\\n  \"Salesforce\"...|15-2051.01|Business Intellig...|15-2051.01|Business Intellig...|[\\n  \"52.0101\",\\n...|[\\n  \"Business/Co...|[\\n  \"52.01\",\\n  ...|[\\n  \"Business/Co...|[\\n  \"52\",\\n  \"45...|[\\n  \"Business, M...|   15-0000|Computer and Math...|   15-2000|Mathematical Scie...|   15-2050|Data Scientists|   15-2051|Data Scientists|             23|Information Techn...|        231113|Data / Data Minin...|                  23111310|                   Data Analyst|                2311|     Data Analysis and...|                     23111310|                      Data Analyst|           231113|  Data / Data Minin...|                   2311|        Data Analysis and...|                23|   Information Techn...|15-0000|Computer and Math...|15-2000|Mathematical Scie...|15-2050|Data Scientists|15-2051|Data Scientists|        [\\n  7\\n]|  [\\n  \"Artificial ...|          54|Professional, Sci...|         541|Professional, Sci...|        5415|Computer Systems ...|       54151|Computer Systems ...|      541511|Custom Computer P...|\n",
      "+--------------------+-----------------+----------------------+----------+--------+---------+--------+--------------------+--------------------+--------------------+-----------+-------------------+--------------------+--------------------+---------------+----------------+---------+--------------------+--------------------+-------------------+----------------+---------------------+-------------+-------------------+-------------+------------------+---------------+--------------------+--------------------+--------------------+-------------+------+-----------+----------------+-------------------+---------+-----------+--------------------+--------------------+------------------+------+--------------------+-----+--------------------+-----+----------+---------------+--------------------+---------------+--------------------+------------+--------------------+------------+--------------------+------+--------------------+------+--------------------+------+--------------------+------+--------------------+------+--------------------+------------------+-------------------+--------------------+--------------------+--------------------+--------------------+-----------------------+--------------------+--------------------+--------------------+--------------------+--------------------+--------------------+----------+--------------------+----------+--------------------+--------------------+--------------------+--------------------+--------------------+--------------------+--------------------+----------+--------------------+----------+--------------------+----------+---------------+----------+---------------+---------------+--------------------+--------------+--------------------+--------------------------+-------------------------------+--------------------+-------------------------+-----------------------------+----------------------------------+-----------------+----------------------+-----------------------+----------------------------+------------------+-----------------------+-------+--------------------+-------+--------------------+-------+---------------+-------+---------------+-----------------+----------------------+------------+--------------------+------------+--------------------+------------+--------------------+------------+--------------------+------------+--------------------+\n",
      "only showing top 10 rows\n",
      "root\n",
      " |-- ID: string (nullable = true)\n",
      " |-- LAST_UPDATED_DATE: string (nullable = true)\n",
      " |-- LAST_UPDATED_TIMESTAMP: timestamp (nullable = true)\n",
      " |-- DUPLICATES: integer (nullable = true)\n",
      " |-- POSTED: string (nullable = true)\n",
      " |-- EXPIRED: string (nullable = true)\n",
      " |-- DURATION: integer (nullable = true)\n",
      " |-- SOURCE_TYPES: string (nullable = true)\n",
      " |-- SOURCES: string (nullable = true)\n",
      " |-- URL: string (nullable = true)\n",
      " |-- ACTIVE_URLS: string (nullable = true)\n",
      " |-- ACTIVE_SOURCES_INFO: string (nullable = true)\n",
      " |-- TITLE_RAW: string (nullable = true)\n",
      " |-- BODY: string (nullable = true)\n",
      " |-- MODELED_EXPIRED: string (nullable = true)\n",
      " |-- MODELED_DURATION: integer (nullable = true)\n",
      " |-- COMPANY: integer (nullable = true)\n",
      " |-- COMPANY_NAME: string (nullable = true)\n",
      " |-- COMPANY_RAW: string (nullable = true)\n",
      " |-- COMPANY_IS_STAFFING: boolean (nullable = true)\n",
      " |-- EDUCATION_LEVELS: string (nullable = true)\n",
      " |-- EDUCATION_LEVELS_NAME: string (nullable = true)\n",
      " |-- MIN_EDULEVELS: integer (nullable = true)\n",
      " |-- MIN_EDULEVELS_NAME: string (nullable = true)\n",
      " |-- MAX_EDULEVELS: integer (nullable = true)\n",
      " |-- MAX_EDULEVELS_NAME: string (nullable = true)\n",
      " |-- EMPLOYMENT_TYPE: integer (nullable = true)\n",
      " |-- EMPLOYMENT_TYPE_NAME: string (nullable = true)\n",
      " |-- MIN_YEARS_EXPERIENCE: integer (nullable = true)\n",
      " |-- MAX_YEARS_EXPERIENCE: integer (nullable = true)\n",
      " |-- IS_INTERNSHIP: boolean (nullable = true)\n",
      " |-- SALARY: integer (nullable = true)\n",
      " |-- REMOTE_TYPE: integer (nullable = true)\n",
      " |-- REMOTE_TYPE_NAME: string (nullable = true)\n",
      " |-- ORIGINAL_PAY_PERIOD: string (nullable = true)\n",
      " |-- SALARY_TO: integer (nullable = true)\n",
      " |-- SALARY_FROM: integer (nullable = true)\n",
      " |-- LOCATION: string (nullable = true)\n",
      " |-- CITY: string (nullable = true)\n",
      " |-- CITY_NAME: string (nullable = true)\n",
      " |-- COUNTY: integer (nullable = true)\n",
      " |-- COUNTY_NAME: string (nullable = true)\n",
      " |-- MSA: integer (nullable = true)\n",
      " |-- MSA_NAME: string (nullable = true)\n",
      " |-- STATE: integer (nullable = true)\n",
      " |-- STATE_NAME: string (nullable = true)\n",
      " |-- COUNTY_OUTGOING: integer (nullable = true)\n",
      " |-- COUNTY_NAME_OUTGOING: string (nullable = true)\n",
      " |-- COUNTY_INCOMING: integer (nullable = true)\n",
      " |-- COUNTY_NAME_INCOMING: string (nullable = true)\n",
      " |-- MSA_OUTGOING: integer (nullable = true)\n",
      " |-- MSA_NAME_OUTGOING: string (nullable = true)\n",
      " |-- MSA_INCOMING: integer (nullable = true)\n",
      " |-- MSA_NAME_INCOMING: string (nullable = true)\n",
      " |-- NAICS2: integer (nullable = true)\n",
      " |-- NAICS2_NAME: string (nullable = true)\n",
      " |-- NAICS3: integer (nullable = true)\n",
      " |-- NAICS3_NAME: string (nullable = true)\n",
      " |-- NAICS4: integer (nullable = true)\n",
      " |-- NAICS4_NAME: string (nullable = true)\n",
      " |-- NAICS5: integer (nullable = true)\n",
      " |-- NAICS5_NAME: string (nullable = true)\n",
      " |-- NAICS6: integer (nullable = true)\n",
      " |-- NAICS6_NAME: string (nullable = true)\n",
      " |-- TITLE: string (nullable = true)\n",
      " |-- TITLE_NAME: string (nullable = true)\n",
      " |-- TITLE_CLEAN: string (nullable = true)\n",
      " |-- SKILLS: string (nullable = true)\n",
      " |-- SKILLS_NAME: string (nullable = true)\n",
      " |-- SPECIALIZED_SKILLS: string (nullable = true)\n",
      " |-- SPECIALIZED_SKILLS_NAME: string (nullable = true)\n",
      " |-- CERTIFICATIONS: string (nullable = true)\n",
      " |-- CERTIFICATIONS_NAME: string (nullable = true)\n",
      " |-- COMMON_SKILLS: string (nullable = true)\n",
      " |-- COMMON_SKILLS_NAME: string (nullable = true)\n",
      " |-- SOFTWARE_SKILLS: string (nullable = true)\n",
      " |-- SOFTWARE_SKILLS_NAME: string (nullable = true)\n",
      " |-- ONET: string (nullable = true)\n",
      " |-- ONET_NAME: string (nullable = true)\n",
      " |-- ONET_2019: string (nullable = true)\n",
      " |-- ONET_2019_NAME: string (nullable = true)\n",
      " |-- CIP6: string (nullable = true)\n",
      " |-- CIP6_NAME: string (nullable = true)\n",
      " |-- CIP4: string (nullable = true)\n",
      " |-- CIP4_NAME: string (nullable = true)\n",
      " |-- CIP2: string (nullable = true)\n",
      " |-- CIP2_NAME: string (nullable = true)\n",
      " |-- SOC_2021_2: string (nullable = true)\n",
      " |-- SOC_2021_2_NAME: string (nullable = true)\n",
      " |-- SOC_2021_3: string (nullable = true)\n",
      " |-- SOC_2021_3_NAME: string (nullable = true)\n",
      " |-- SOC_2021_4: string (nullable = true)\n",
      " |-- SOC_2021_4_NAME: string (nullable = true)\n",
      " |-- SOC_2021_5: string (nullable = true)\n",
      " |-- SOC_2021_5_NAME: string (nullable = true)\n",
      " |-- LOT_CAREER_AREA: integer (nullable = true)\n",
      " |-- LOT_CAREER_AREA_NAME: string (nullable = true)\n",
      " |-- LOT_OCCUPATION: integer (nullable = true)\n",
      " |-- LOT_OCCUPATION_NAME: string (nullable = true)\n",
      " |-- LOT_SPECIALIZED_OCCUPATION: integer (nullable = true)\n",
      " |-- LOT_SPECIALIZED_OCCUPATION_NAME: string (nullable = true)\n",
      " |-- LOT_OCCUPATION_GROUP: integer (nullable = true)\n",
      " |-- LOT_OCCUPATION_GROUP_NAME: string (nullable = true)\n",
      " |-- LOT_V6_SPECIALIZED_OCCUPATION: integer (nullable = true)\n",
      " |-- LOT_V6_SPECIALIZED_OCCUPATION_NAME: string (nullable = true)\n",
      " |-- LOT_V6_OCCUPATION: integer (nullable = true)\n",
      " |-- LOT_V6_OCCUPATION_NAME: string (nullable = true)\n",
      " |-- LOT_V6_OCCUPATION_GROUP: integer (nullable = true)\n",
      " |-- LOT_V6_OCCUPATION_GROUP_NAME: string (nullable = true)\n",
      " |-- LOT_V6_CAREER_AREA: integer (nullable = true)\n",
      " |-- LOT_V6_CAREER_AREA_NAME: string (nullable = true)\n",
      " |-- SOC_2: string (nullable = true)\n",
      " |-- SOC_2_NAME: string (nullable = true)\n",
      " |-- SOC_3: string (nullable = true)\n",
      " |-- SOC_3_NAME: string (nullable = true)\n",
      " |-- SOC_4: string (nullable = true)\n",
      " |-- SOC_4_NAME: string (nullable = true)\n",
      " |-- SOC_5: string (nullable = true)\n",
      " |-- SOC_5_NAME: string (nullable = true)\n",
      " |-- LIGHTCAST_SECTORS: string (nullable = true)\n",
      " |-- LIGHTCAST_SECTORS_NAME: string (nullable = true)\n",
      " |-- NAICS_2022_2: integer (nullable = true)\n",
      " |-- NAICS_2022_2_NAME: string (nullable = true)\n",
      " |-- NAICS_2022_3: integer (nullable = true)\n",
      " |-- NAICS_2022_3_NAME: string (nullable = true)\n",
      " |-- NAICS_2022_4: integer (nullable = true)\n",
      " |-- NAICS_2022_4_NAME: string (nullable = true)\n",
      " |-- NAICS_2022_5: integer (nullable = true)\n",
      " |-- NAICS_2022_5_NAME: string (nullable = true)\n",
      " |-- NAICS_2022_6: integer (nullable = true)\n",
      " |-- NAICS_2022_6_NAME: string (nullable = true)\n",
      "\n"
     ]
    }
   ],
   "source": [
    "# Display the first Ten rows\n",
    "df.show(10)\n",
    "\n",
    "# Show the schema (column names & data types)\n",
    "df.printSchema()"
   ]
  },
  {
   "cell_type": "code",
   "execution_count": 3,
   "id": "36af589c",
   "metadata": {},
   "outputs": [
    {
     "name": "stderr",
     "output_type": "stream",
     "text": [
      "[Stage 3:>                                                          (0 + 1) / 1]\r"
     ]
    },
    {
     "name": "stdout",
     "output_type": "stream",
     "text": [
      "+--------------------+---------+\n",
      "|EMPLOYMENT_TYPE_NAME|job_count|\n",
      "+--------------------+---------+\n",
      "|Full-time (> 32 h...|    69176|\n",
      "|Part-time (â‰¤ 32...|     2298|\n",
      "|Part-time / full-...|      980|\n",
      "|                NULL|       44|\n",
      "+--------------------+---------+\n",
      "\n"
     ]
    },
    {
     "name": "stderr",
     "output_type": "stream",
     "text": [
      "                                                                                \r"
     ]
    }
   ],
   "source": [
    "#number of job postings for each employment type and order them in descending order.\n",
    "job_counts_by_type = spark.sql(\"\"\"\n",
    "    SELECT EMPLOYMENT_TYPE_NAME, COUNT(*) AS job_count\n",
    "    FROM jobs\n",
    "    GROUP BY EMPLOYMENT_TYPE_NAME\n",
    "    ORDER BY job_count DESC\n",
    "    LIMIT 10\n",
    "\"\"\")\n",
    "\n",
    "# Show the result\n",
    "job_counts_by_type.show()"
   ]
  },
  {
   "cell_type": "code",
   "execution_count": 4,
   "id": "24965d4b",
   "metadata": {},
   "outputs": [
    {
     "name": "stderr",
     "output_type": "stream",
     "text": [
      "[Stage 6:>                                                          (0 + 1) / 1]\r"
     ]
    },
    {
     "name": "stdout",
     "output_type": "stream",
     "text": [
      "+-------------------------+\n",
      "|total_unique_job_postings|\n",
      "+-------------------------+\n",
      "|                    72476|\n",
      "+-------------------------+\n",
      "\n"
     ]
    },
    {
     "name": "stderr",
     "output_type": "stream",
     "text": [
      "                                                                                \r"
     ]
    }
   ],
   "source": [
    "#Question 1: How many job postings we have in the dataset?\n",
    "total_jobs = spark.sql(\"\"\"\n",
    "    SELECT COUNT(ID) AS total_unique_job_postings\n",
    "    FROM jobs\n",
    "\"\"\")\n",
    "total_jobs.show()"
   ]
  },
  {
   "cell_type": "code",
   "execution_count": 5,
   "id": "f2150454",
   "metadata": {},
   "outputs": [
    {
     "name": "stderr",
     "output_type": "stream",
     "text": [
      "[Stage 9:>                                                          (0 + 1) / 1]\r"
     ]
    },
    {
     "name": "stdout",
     "output_type": "stream",
     "text": [
      "+--------------------+---------+\n",
      "|           title_Job|job_count|\n",
      "+--------------------+---------+\n",
      "|        Data Analyst|     4201|\n",
      "|Enterprise Architect|      808|\n",
      "| Senior Data Analyst|      724|\n",
      "|Business Intellig...|      686|\n",
      "|        Data Modeler|      281|\n",
      "+--------------------+---------+\n",
      "\n"
     ]
    },
    {
     "name": "stderr",
     "output_type": "stream",
     "text": [
      "                                                                                \r"
     ]
    }
   ],
   "source": [
    "top_5 = spark.sql(\"\"\"\n",
    "    SELECT TITLE_RAW AS title_Job, COUNT(*) AS job_count\n",
    "    FROM jobs\n",
    "    GROUP BY TITLE_RAW\n",
    "    ORDER BY job_count DESC\n",
    "    LIMIT 5\n",
    "\"\"\")\n",
    "\n",
    "top_5.show()"
   ]
  },
  {
   "cell_type": "code",
   "execution_count": 6,
   "id": "ffb9dd18",
   "metadata": {},
   "outputs": [
    {
     "name": "stderr",
     "output_type": "stream",
     "text": [
      "[Stage 12:>                                                         (0 + 1) / 1]\r"
     ]
    },
    {
     "name": "stdout",
     "output_type": "stream",
     "text": [
      "+--------------------+------------------+\n",
      "|EMPLOYMENT_TYPE_NAME|        avg_salary|\n",
      "+--------------------+------------------+\n",
      "|Full-time (> 32 h...|118897.55860862407|\n",
      "|Part-time / full-...| 105621.2423263328|\n",
      "|Part-time (â‰¤ 32...| 98802.50963391137|\n",
      "+--------------------+------------------+\n",
      "\n"
     ]
    },
    {
     "name": "stderr",
     "output_type": "stream",
     "text": [
      "                                                                                \r"
     ]
    }
   ],
   "source": [
    "avg_salary_by_type = spark.sql(\"\"\"\n",
    "    SELECT EMPLOYMENT_TYPE_NAME, AVG(SALARY) AS avg_salary\n",
    "    FROM jobs\n",
    "    WHERE SALARY IS NOT NULL AND EMPLOYMENT_TYPE IS NOT NULL\n",
    "    GROUP BY EMPLOYMENT_TYPE_NAME\n",
    "    ORDER BY avg_salary DESC\n",
    "\"\"\")\n",
    "\n",
    "avg_salary_by_type.show()"
   ]
  },
  {
   "cell_type": "code",
   "execution_count": 7,
   "id": "c825eb29",
   "metadata": {},
   "outputs": [
    {
     "name": "stderr",
     "output_type": "stream",
     "text": [
      "[Stage 15:>                                                         (0 + 1) / 1]\r"
     ]
    },
    {
     "name": "stdout",
     "output_type": "stream",
     "text": [
      "+----------+---------+\n",
      "|STATE_NAME|job_count|\n",
      "+----------+---------+\n",
      "|     Texas|     8067|\n",
      "|California|     7084|\n",
      "|   Florida|     3645|\n",
      "|  Virginia|     3636|\n",
      "|  Illinois|     3538|\n",
      "+----------+---------+\n",
      "\n"
     ]
    },
    {
     "name": "stderr",
     "output_type": "stream",
     "text": [
      "                                                                                \r"
     ]
    }
   ],
   "source": [
    "#What five states have the most job postings\n",
    "top_states = spark.sql(\"\"\"\n",
    "    SELECT STATE_NAME, COUNT(*) AS job_count\n",
    "    FROM jobs\n",
    "    WHERE STATE_NAME IS NOT NULL\n",
    "    GROUP BY STATE_NAME\n",
    "    ORDER BY job_count DESC\n",
    "    LIMIT 5\n",
    "\"\"\")\n",
    "\n",
    "top_states.show()"
   ]
  },
  {
   "cell_type": "code",
   "execution_count": 8,
   "id": "215d1bee",
   "metadata": {},
   "outputs": [
    {
     "name": "stderr",
     "output_type": "stream",
     "text": [
      "[Stage 18:>                                                         (0 + 1) / 1]\r"
     ]
    },
    {
     "name": "stdout",
     "output_type": "stream",
     "text": [
      "+--------------------+--------------+\n",
      "|           job_title|Diff_in_salary|\n",
      "+--------------------+--------------+\n",
      "|San Diego GI Posi...|        784000|\n",
      "|Analytics Enginee...|        550000|\n",
      "|Analytics Enginee...|        550000|\n",
      "|Oracle Utilities ...|        238300|\n",
      "|Data Analytics Le...|        227000|\n",
      "|ServiceNow Enterp...|        218300|\n",
      "|Corporate Systems...|        215000|\n",
      "|(USA) Senior Dist...|        208000|\n",
      "|AI Portfolio & Ec...|        206100|\n",
      "|Principal Enterpr...|        195600|\n",
      "|Climate Data Analyst|        195000|\n",
      "|Associate, F&S, S...|        190000|\n",
      "|Security & Privac...|        186000|\n",
      "|           Associate|        185000|\n",
      "|Data Analyst, Sup...|        178000|\n",
      "|  Data Analyst, Semi|        178000|\n",
      "|Developer Archite...|        176700|\n",
      "|Senior Director &...|        176000|\n",
      "|Senior Network Ar...|        175500|\n",
      "|    Client Architect|        174200|\n",
      "+--------------------+--------------+\n",
      "only showing top 20 rows\n"
     ]
    },
    {
     "name": "stderr",
     "output_type": "stream",
     "text": [
      "                                                                                \r"
     ]
    }
   ],
   "source": [
    "#Calculate the salary range (max-min) for each job title in a California\n",
    "california_data =  spark.sql(\"\"\" \n",
    "    SELECT TITLE_RAW as job_title, MAX(SALARY_TO)- MAX(SALARY_FROM) AS Diff_in_salary\n",
    "    FROM jobs\n",
    "    WHERE STATE_NAME = 'California'\n",
    "    GROUP BY TITLE_RAW\n",
    "    ORDER BY Diff_in_salary DESC\n",
    "\"\"\")\n",
    "california_data.show()"
   ]
  },
  {
   "cell_type": "code",
   "execution_count": 9,
   "id": "f21d491c",
   "metadata": {},
   "outputs": [
    {
     "name": "stderr",
     "output_type": "stream",
     "text": [
      "[Stage 21:>                                                         (0 + 1) / 1]\r"
     ]
    },
    {
     "name": "stdout",
     "output_type": "stream",
     "text": [
      "+--------------------+------------------+---------+\n",
      "|            Industry|        Avg_salary|job_count|\n",
      "+--------------------+------------------+---------+\n",
      "|Web Search Portal...|190195.80506329113|      395|\n",
      "|Offices of Certif...| 162985.4912891986|      574|\n",
      "|All Other Miscell...|150997.92523364487|      214|\n",
      "|Research and Deve...|148788.00746268657|      134|\n",
      "|Pharmaceutical Pr...|145708.55970149254|      134|\n",
      "+--------------------+------------------+---------+\n",
      "\n"
     ]
    },
    {
     "name": "stderr",
     "output_type": "stream",
     "text": [
      "                                                                                \r"
     ]
    }
   ],
   "source": [
    "#What top 5 industries have the highest average salaries, and ,more than 100 job postings?\n",
    "top_5_indus =  spark.sql(\"\"\" \n",
    "    SELECT NAICS_2022_6_NAME AS Industry, AVG(SALARY) AS Avg_salary, COUNT(*) AS job_count\n",
    "    FROM jobs\n",
    "    WHERE NAICS_2022_6_NAME IS NOT NULL AND SALARY IS NOT NULL\n",
    "    GROUP BY NAICS_2022_6_NAME\n",
    "    HAVING COUNT(*) >100\n",
    "    ORDER BY Avg_salary DESC\n",
    "    LIMIT 5\n",
    "\"\"\")\n",
    "top_5_indus.show()"
   ]
  },
  {
   "cell_type": "markdown",
   "id": "346f0c31",
   "metadata": {},
   "source": []
  },
  {
   "cell_type": "code",
   "execution_count": null,
   "id": "cf767de9",
   "metadata": {},
   "outputs": [],
   "source": []
  }
 ],
 "metadata": {
  "kernelspec": {
   "display_name": ".venv (3.9.23)",
   "language": "python",
   "name": "python3"
  },
  "language_info": {
   "codemirror_mode": {
    "name": "ipython",
    "version": 3
   },
   "file_extension": ".py",
   "mimetype": "text/x-python",
   "name": "python",
   "nbconvert_exporter": "python",
   "pygments_lexer": "ipython3",
   "version": "3.9.23"
  }
 },
 "nbformat": 4,
 "nbformat_minor": 5
}
